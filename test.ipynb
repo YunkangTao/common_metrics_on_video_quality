{
 "cells": [
  {
   "cell_type": "code",
   "execution_count": 1,
   "metadata": {},
   "outputs": [],
   "source": [
    "import cv2\n",
    "import os\n",
    "from tqdm import tqdm\n",
    "import shutil\n",
    "def video_split(video_path, pred_dir, gt_dir):\n",
    "    video_name = video_path.split('/')[-1]\n",
    "    cap = cv2.VideoCapture(video_path)\n",
    "\n",
    "    # 获取视频参数\n",
    "    fps = cap.get(cv2.CAP_PROP_FPS)\n",
    "    width = int(cap.get(cv2.CAP_PROP_FRAME_WIDTH))\n",
    "    height = int(cap.get(cv2.CAP_PROP_FRAME_HEIGHT))\n",
    "\n",
    "    # 定义子视频尺寸\n",
    "    clip_width = width // 3\n",
    "    clip_height = height // 2\n",
    "\n",
    "    # 初始化写入对象\n",
    "    fourcc = cv2.VideoWriter_fourcc(*\"mp4v\")\n",
    "    pred_writer = cv2.VideoWriter(os.path.join(pred_dir, video_name), fourcc, fps, (clip_width, clip_height))\n",
    "    gt_writer = cv2.VideoWriter(os.path.join(gt_dir, video_name), fourcc, fps, (clip_width, clip_height))\n",
    "\n",
    "    while cap.isOpened():\n",
    "        ret, frame = cap.read()\n",
    "        if not ret:\n",
    "            break\n",
    "        \n",
    "        # 裁剪 Pred 区域（第二行第三列）\n",
    "        gt_frame = frame[\n",
    "            height//2 : height//2 + clip_height,\n",
    "            2 * clip_width : 2 * clip_width + clip_width\n",
    "        ]\n",
    "        \n",
    "        # 裁剪 GT 区域（第二行第二列）\n",
    "        pred_frame = frame[\n",
    "            height//2 : height//2 + clip_height,\n",
    "            clip_width : clip_width + clip_width\n",
    "        ]\n",
    "\n",
    "        # 写入新视频\n",
    "        pred_writer.write(pred_frame)\n",
    "        gt_writer.write(gt_frame)\n",
    "\n",
    "    # 释放资源\n",
    "    cap.release()\n",
    "    pred_writer.release()\n",
    "    gt_writer.release()\n",
    "pred_dir = \"easy_animate/pred\"\n",
    "gt_dir = \"easy_animate/gt\"\n",
    "# 确保输出目录存在\n",
    "os.makedirs(pred_dir, exist_ok=True)\n",
    "os.makedirs(gt_dir, exist_ok=True)\n",
    "\n",
    "# 读取原视频\n",
    "video_name = \"0da6a36b24eaf5db.mp4\"\n",
    "# video_path = \"/home/chenyang_lei/video_diffusion_models/common_metrics_on_video_quality/results_checkpoint-8038/test_clips/_cZ1oDQbgI4/0da6a36b24eaf5db.mp4\"\n",
    "ea_dir = '/home/chenyang_lei/video_diffusion_models/common_metrics_on_video_quality/results_checkpoint-8038/test_clips'\n",
    "sub_folders = os.listdir(ea_dir)\n",
    "video_paths = []\n",
    "for sub_folder in sub_folders:\n",
    "    files = os.listdir(os.path.join(ea_dir, sub_folder))\n",
    "    for file in files:\n",
    "#         if '.mp4' in file:\n",
    "#             video_paths.append(os.path.join(ea_dir, sub_folder, file))\n",
    "        if '.txt' in file:\n",
    "            src_path = os.path.join(ea_dir, sub_folder, file)\n",
    "            dst_path = os.path.join('baseline_test_pose', file)\n",
    "            os.makedirs(os.path.dirname(dst_path), exist_ok=True)\n",
    "            shutil.copy2(src_path, dst_path)\n",
    "# for video_path in tqdm(video_paths):\n",
    "#     video_split(video_path, pred_dir, gt_dir)\n"
   ]
  },
  {
   "cell_type": "code",
   "execution_count": 12,
   "metadata": {},
   "outputs": [],
   "source": [
    "ea_dir = '/home/chenyang_lei/video_diffusion_models/common_metrics_on_video_quality/results_checkpoint-8038/test_clips'\n",
    "sub_folders = os.listdir(ea_dir)\n",
    "video_paths = []\n",
    "for sub_folder in sub_folders:\n",
    "    files = os.listdir(os.path.join(ea_dir, sub_folder))\n",
    "    for file in files:\n",
    "        if '.mp4' in file:\n",
    "            video_paths.append(os.path.join(ea_dir, sub_folder, file))"
   ]
  },
  {
   "cell_type": "code",
   "execution_count": 14,
   "metadata": {},
   "outputs": [
    {
     "data": {
      "text/plain": [
       "'d148537296a4925e.mp4'"
      ]
     },
     "execution_count": 14,
     "metadata": {},
     "output_type": "execute_result"
    }
   ],
   "source": [
    "video_paths[0].split('/')[-1]"
   ]
  },
  {
   "cell_type": "code",
   "execution_count": 16,
   "metadata": {},
   "outputs": [],
   "source": [
    "ea_videos = os.listdir('/home/chenyang_lei/video_diffusion_models/common_metrics_on_video_quality/easy_animate/gt')"
   ]
  },
  {
   "cell_type": "code",
   "execution_count": 19,
   "metadata": {},
   "outputs": [],
   "source": [
    "camctrl_videos = os.listdir('/home/chenyang_lei/video_diffusion_models/common_metrics_on_video_quality/baselines_result/motionctrl_svd_1000_test')"
   ]
  },
  {
   "cell_type": "code",
   "execution_count": 20,
   "metadata": {},
   "outputs": [],
   "source": [
    "i = 0\n",
    "for ea_video in ea_videos:\n",
    "    if ea_video in camctrl_videos:\n",
    "        i += 1"
   ]
  },
  {
   "cell_type": "code",
   "execution_count": 21,
   "metadata": {},
   "outputs": [
    {
     "data": {
      "text/plain": [
       "177"
      ]
     },
     "execution_count": 21,
     "metadata": {},
     "output_type": "execute_result"
    }
   ],
   "source": [
    "i"
   ]
  },
  {
   "cell_type": "code",
   "execution_count": null,
   "metadata": {},
   "outputs": [],
   "source": []
  }
 ],
 "metadata": {
  "kernelspec": {
   "display_name": "cameractrl",
   "language": "python",
   "name": "python3"
  },
  "language_info": {
   "codemirror_mode": {
    "name": "ipython",
    "version": 3
   },
   "file_extension": ".py",
   "mimetype": "text/x-python",
   "name": "python",
   "nbconvert_exporter": "python",
   "pygments_lexer": "ipython3",
   "version": "3.10.14"
  }
 },
 "nbformat": 4,
 "nbformat_minor": 2
}
